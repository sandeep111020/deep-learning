{
  "nbformat": 4,
  "nbformat_minor": 0,
  "metadata": {
    "colab": {
      "name": "Untitled",
      "provenance": [],
      "mount_file_id": "1-1GX0rkOL8eoFdQL2kJ_ob28quzrHSuq",
      "authorship_tag": "ABX9TyM1P5/LAPbZIUmO6FayaIn9",
      "include_colab_link": true
    },
    "kernelspec": {
      "name": "python3",
      "display_name": "Python 3"
    }
  },
  "cells": [
    {
      "cell_type": "markdown",
      "metadata": {
        "id": "view-in-github",
        "colab_type": "text"
      },
      "source": [
        "<a href=\"https://colab.research.google.com/github/sandeep111020/deep-learning/blob/master/text%20reader%20in%20image.ipynb\" target=\"_parent\"><img src=\"https://colab.research.google.com/assets/colab-badge.svg\" alt=\"Open In Colab\"/></a>"
      ]
    },
    {
      "cell_type": "code",
      "metadata": {
        "id": "8nB3UoMk7CLl"
      },
      "source": [
        "pip install opencv-python"
      ],
      "execution_count": null,
      "outputs": []
    },
    {
      "cell_type": "code",
      "metadata": {
        "id": "8Fkpumtt70GW"
      },
      "source": [
        "pip install pytesseract"
      ],
      "execution_count": null,
      "outputs": []
    },
    {
      "cell_type": "code",
      "metadata": {
        "id": "CnVDmXoCEpM0"
      },
      "source": [
        "pip install keras"
      ],
      "execution_count": null,
      "outputs": []
    },
    {
      "cell_type": "code",
      "metadata": {
        "id": "MfH82hbz8HD7"
      },
      "source": [
        "import pytesseract\n",
        "pytesseract.pytesseract.tesseract_cmd=r'/content/drive/My Drive/pytesseract.exe'\n",
        "#m'look"
      ],
      "execution_count": null,
      "outputs": []
    },
    {
      "cell_type": "code",
      "metadata": {
        "id": "HtDbBS6APDmG"
      },
      "source": [
        "import cv2\n",
        "from numpy import expand_dims\n",
        "from keras.preprocessing.image import load_img, img_to_array,ImageDataGenerator\n",
        "from matplotlib import pyplot"
      ],
      "execution_count": null,
      "outputs": []
    },
    {
      "cell_type": "code",
      "metadata": {
        "id": "VgaFh3NvFHrb"
      },
      "source": [
        "img = load_img('/content/drive/My Drive/ml codeacadamy.jpg')#u')"
      ],
      "execution_count": null,
      "outputs": []
    },
    {
      "cell_type": "code",
      "metadata": {
        "id": "zKpjKdfeF9QA"
      },
      "source": [
        "pyplot.imshow(img)"
      ],
      "execution_count": null,
      "outputs": []
    },
    {
      "cell_type": "code",
      "metadata": {
        "id": "qV_pSHNwSoxP"
      },
      "source": [
        "text = pytesseract.image_to_string(img)\n",
        "print(text)"
      ],
      "execution_count": null,
      "outputs": []
    }
  ]
}