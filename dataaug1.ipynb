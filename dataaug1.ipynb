{
  "nbformat": 4,
  "nbformat_minor": 0,
  "metadata": {
    "colab": {
      "name": "dataaug1.ipynb",
      "provenance": [],
      "mount_file_id": "1hxTWJvCY22Wkij3YW5bTsPjUDvrAbtVp",
      "authorship_tag": "ABX9TyOrd1+C8saXc3DEQ+hbZAo1",
      "include_colab_link": true
    },
    "kernelspec": {
      "name": "python3",
      "display_name": "Python 3"
    }
  },
  "cells": [
    {
      "cell_type": "markdown",
      "metadata": {
        "id": "view-in-github",
        "colab_type": "text"
      },
      "source": [
        "<a href=\"https://colab.research.google.com/github/sandeep111020/deep-learning/blob/master/dataaug1.ipynb\" target=\"_parent\"><img src=\"https://colab.research.google.com/assets/colab-badge.svg\" alt=\"Open In Colab\"/></a>"
      ]
    },
    {
      "cell_type": "code",
      "metadata": {
        "id": "gEcKPv04wxsf",
        "colab_type": "code",
        "colab": {}
      },
      "source": [
        "pip install keras"
      ],
      "execution_count": null,
      "outputs": []
    },
    {
      "cell_type": "code",
      "metadata": {
        "id": "oxXvzJ0yw5c7",
        "colab_type": "code",
        "colab": {}
      },
      "source": [
        "from keras_preprocessing.image import ImageDataGenerator , array_to_img , img_to_array, load_img"
      ],
      "execution_count": null,
      "outputs": []
    },
    {
      "cell_type": "code",
      "metadata": {
        "id": "_lH72aY2zJWF",
        "colab_type": "code",
        "colab": {}
      },
      "source": [
        "datagen = ImageDataGenerator(rotation_range=40, \n",
        "                             width_shift_range=0.2,\n",
        "                             height_shift_range=0.2,\n",
        "                             shear_range=0.2, \n",
        "                             zoom_range=0.8,#01.2,\n",
        "                             horizontal_flip=True,\n",
        "                             fill_mode='nearest')#,\n",
        "                             #rotation_range=90, \n",
        "                             #brightness_range=0.2)#rotat\n",
        "                             #trans#loader)"
      ],
      "execution_count": null,
      "outputs": []
    },
    {
      "cell_type": "code",
      "metadata": {
        "id": "LpnPPs90xZ2S",
        "colab_type": "code",
        "colab": {}
      },
      "source": [
        "img = load_img('/content/drive/My Drive/sandeepa.jpg')#1585123295567-239896766.jpg')#%logstop"
      ],
      "execution_count": null,
      "outputs": []
    },
    {
      "cell_type": "code",
      "metadata": {
        "id": "ZTYbn0H7z6pR",
        "colab_type": "code",
        "colab": {}
      },
      "source": [
        "x = img_to_array(img)\n",
        "                 #)\n",
        "                 \n"
      ],
      "execution_count": null,
      "outputs": []
    },
    {
      "cell_type": "code",
      "metadata": {
        "id": "hP9xV5LW0Sk5",
        "colab_type": "code",
        "colab": {}
      },
      "source": [
        "x =x.reshape((1,) + x.shape)"
      ],
      "execution_count": null,
      "outputs": []
    },
    {
      "cell_type": "code",
      "metadata": {
        "id": "1cntLO3A1Yod",
        "colab_type": "code",
        "colab": {}
      },
      "source": [
        "i = 0\n",
        "for batch in datagen.flow(x, save_to_dir='drive/My Drive/edits', save_prefix='non', save_format='jpeg'):\n",
        "  i += 1\n",
        "  if i > 20:\n",
        "    break#breq"
      ],
      "execution_count": null,
      "outputs": []
    }
  ]
}